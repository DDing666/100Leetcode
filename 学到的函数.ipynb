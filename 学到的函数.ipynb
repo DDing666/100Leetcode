{
 "cells": [
  {
   "cell_type": "markdown",
   "metadata": {},
   "source": [
    "# enumerate \n",
    "\n",
    "enumerate() 函数用于将一个可遍历的数据对象(如列表、元组或字符串)组合为一个索引序列，同时列出数据和数据下标，一般用在 for 循环当中。"
   ]
  },
  {
   "cell_type": "code",
   "execution_count": null,
   "metadata": {},
   "outputs": [],
   "source": [
    "enumerate(sequence, start=0)\n",
    "\n",
    "'''\n",
    "sequence -- 一个序列、迭代器或其他支持迭代对象。\n",
    "start -- 下标起始位置。\n",
    "返回 enumerate(枚举) 对象\n",
    "'''"
   ]
  },
  {
   "cell_type": "code",
   "execution_count": null,
   "metadata": {},
   "outputs": [],
   "source": [
    "#示例\n",
    "seasons = ['Spring', 'Summer', 'Fall', 'Winter']\n",
    "list(enumerate(seasons))\n",
    "list(enumerate(seasons, start=1))       # 下标从 1 开始\n",
    "tuple(enumerate(seasons, start=1))"
   ]
  },
  {
   "cell_type": "code",
   "execution_count": null,
   "metadata": {},
   "outputs": [],
   "source": [
    "#普通的for循环\n",
    "i = 0\n",
    "seq = ['one', 'two', 'three']\n",
    "for element in seq:\n",
    "    print(i, seq[i])\n",
    "    i +=1\n",
    "#for循环使用enumerate示例1\n",
    "seq = ['one', 'two', 'three']\n",
    "for temp in enumerate(seq):\n",
    "    print(temp)   \n",
    "#for循环使用enumerate示例2\n",
    "seq = ['one', 'two', 'three']\n",
    "for i, element in enumerate(seq):\n",
    "    print (i, element)"
   ]
  }
 ],
 "metadata": {
  "kernelspec": {
   "display_name": "Python 3",
   "language": "python",
   "name": "python3"
  },
  "language_info": {
   "codemirror_mode": {
    "name": "ipython",
    "version": 3
   },
   "file_extension": ".py",
   "mimetype": "text/x-python",
   "name": "python",
   "nbconvert_exporter": "python",
   "pygments_lexer": "ipython3",
   "version": "3.9.1"
  }
 },
 "nbformat": 4,
 "nbformat_minor": 2
}
