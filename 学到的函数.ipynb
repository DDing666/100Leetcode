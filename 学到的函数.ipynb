{
 "cells": [
  {
   "cell_type": "markdown",
   "metadata": {},
   "source": [
    "# enumerate \n",
    "\n",
    "enumerate() 函数用于将一个可遍历的数据对象(如列表、元组或字符串)组合为一个索引序列，同时列出数据和数据下标，一般用在 for 循环当中。"
   ]
  },
  {
   "cell_type": "code",
   "execution_count": null,
   "metadata": {},
   "outputs": [],
   "source": [
    "enumerate(sequence, start=0)\n",
    "\n",
    "'''\n",
    "sequence -- 一个序列、迭代器或其他支持迭代对象。\n",
    "start -- 下标起始位置。\n",
    "返回 enumerate(枚举) 对象\n",
    "'''"
   ]
  },
  {
   "cell_type": "code",
   "execution_count": null,
   "metadata": {},
   "outputs": [],
   "source": [
    "#示例\n",
    "seasons = ['Spring', 'Summer', 'Fall', 'Winter']\n",
    "list(enumerate(seasons))\n",
    "list(enumerate(seasons, start=1))       # 下标从 1 开始\n",
    "tuple(enumerate(seasons, start=1))"
   ]
  },
  {
   "cell_type": "code",
   "execution_count": null,
   "metadata": {},
   "outputs": [],
   "source": [
    "#普通的for循环\n",
    "i = 0\n",
    "seq = ['one', 'two', 'three']\n",
    "for element in seq:\n",
    "    print(i, seq[i])\n",
    "    i +=1\n",
    "#for循环使用enumerate示例1\n",
    "seq = ['one', 'two', 'three']\n",
    "for temp in enumerate(seq):\n",
    "    print(temp)   \n",
    "#for循环使用enumerate示例2\n",
    "seq = ['one', 'two', 'three']\n",
    "for i, element in enumerate(seq):\n",
    "    print (i, element)"
   ]
  },
  {
   "cell_type": "markdown",
   "metadata": {},
   "source": [
    "# Collection"
   ]
  },
  {
   "cell_type": "markdown",
   "metadata": {},
   "source": [
    "### collection.defaultdict()定义字典（可以含有不存在的键）"
   ]
  },
  {
   "cell_type": "code",
   "execution_count": 6,
   "metadata": {},
   "outputs": [
    {
     "name": "stdout",
     "output_type": "stream",
     "text": [
      "defaultdict(None, {'yellow': 3, 'blue': 4, 'red': 1})\n",
      "defaultdict(<class 'list'>, {'yellow': 3, 'blue': 4, 'red': 1})\n"
     ]
    }
   ],
   "source": [
    "import collections \n",
    "s = [('yellow', 1), ('blue', 2), ('yellow', 3), ('blue', 4), ('red', 1)]  \n",
    "## 元组列表  ## 元组是里面的元素，列表是最终的数据类型 type \n",
    "\n",
    "d = collections.defaultdict()   ## 注意这里并没有指明数据类型 \n",
    "for k, v in s:\n",
    "    d[k] = v  \n",
    "    \n",
    "print(d)\n",
    "#### defaultdict(<class 'list'>, {'yellow': 3, 'blue': 4, 'red': 1})\n",
    "\n",
    "\n",
    "##############  注意查看 defaultdict() 默认是 list 类型  ###############  \n",
    "import collections \n",
    "s = [('yellow', 1), ('blue', 2), ('yellow', 3), ('blue', 4), ('red', 1)]\n",
    "d = collections.defaultdict(list)\n",
    "for k, v in s:\n",
    "    d[k] = v\n",
    "print(d)\n",
    "# defaultdict(<class 'list'>, {'yellow': 3, 'blue': 4, 'red': 1})\n",
    "\n",
    "#注意看，这里的是赋值，所以只有最后一个blue\n",
    "\n",
    "#对比结果\n",
    "import collections \n",
    "s = [('yellow', 1), ('blue', 2), ('yellow', 3), ('blue', 4), ('red', 1)]\n",
    "\n",
    "d = collections.defaultdict(list)  ## 指明了数据类型 list \n",
    "for k, v in s:\n",
    "    d[k].append(v)   ## 注意结果是将所有的值做成了 list \n",
    "    \n",
    "print(d)\n",
    "#### defaultdict(<class 'list'>, {'yellow': [1, 3], 'blue': [2, 4], 'red': [1]})\n",
    "\n",
    "#既然是字典类型就会存在 .keys() , .values(), .items()\n",
    "d.keys()\n",
    "d.values()\n",
    "d.items()"
   ]
  },
  {
   "cell_type": "code",
   "execution_count": 8,
   "metadata": {},
   "outputs": [
    {
     "name": "stdout",
     "output_type": "stream",
     "text": [
      "dict_items([('red', {1, 3}), ('blue', {2, 4})])\n",
      "dict_items([('m', 1), ('i', 4), ('s', 4), ('p', 2)])\n",
      "abc\n",
      "N/A\n"
     ]
    }
   ],
   "source": [
    "#通过 集合 set() 构建 defaultdict\n",
    "from collections import defaultdict\n",
    "s = [('red', 1), ('blue', 2), ('red', 3), ('blue', 4), ('red', 1), ('blue', 4)]\n",
    "d = defaultdict(set)\n",
    "for k, v in s:\n",
    "    d[k].add(v)   ## 元组应该是 add() 操作 \n",
    "\n",
    "print(d.items())\n",
    "#### dict_items([('red', {1, 3}), ('blue', {2, 4})])\n",
    "\n",
    "#通过 defaultdict 构建 计数器\n",
    "from collections import defaultdict\n",
    "s = 'mississippi'\n",
    "d = defaultdict(int)  ## 注意这里是指明了 int 类型的 \n",
    "for k in s:\n",
    "    d[k] += 1  ## 完成计数+1操作\n",
    "\n",
    "print(d.items()) \n",
    "#### dict_items([('m', 1), ('i', 4), ('s', 4), ('p', 2)])\n",
    "\n",
    "#特殊之处：通过设置可以使得不存在的键会自动用 空值 填充\n",
    "from collections import defaultdict\n",
    "dd = defaultdict(lambda : 'N/A')#这里如果不设置lambda:'N/A'的话，会报错说没有key2\n",
    "dd['key1'] = 'abc'\n",
    "print(dd['key1'])\n",
    "print(dd['key2'])\n"
   ]
  },
  {
   "cell_type": "markdown",
   "metadata": {},
   "source": []
  }
 ],
 "metadata": {
  "kernelspec": {
   "display_name": "Python 3",
   "language": "python",
   "name": "python3"
  },
  "language_info": {
   "codemirror_mode": {
    "name": "ipython",
    "version": 3
   },
   "file_extension": ".py",
   "mimetype": "text/x-python",
   "name": "python",
   "nbconvert_exporter": "python",
   "pygments_lexer": "ipython3",
   "version": "3.9.1"
  }
 },
 "nbformat": 4,
 "nbformat_minor": 2
}
